{
 "cells": [
  {
   "cell_type": "markdown",
   "id": "5a2e2f9e",
   "metadata": {},
   "source": [
    "# Condiciones\n",
    "## Sentencia IF (Si)\n",
    "Permite dividir el flujo de un programa en diferentes caminos. El if se ejecuta siempre que la expresión que comprueba devuelva True."
   ]
  },
  {
   "cell_type": "code",
   "execution_count": 1,
   "id": "7c60d60f",
   "metadata": {},
   "outputs": [
    {
     "name": "stdout",
     "output_type": "stream",
     "text": [
      "Se cumple la condición\n",
      "Tambien se muestra este print\n"
     ]
    }
   ],
   "source": [
    "if True:   # Equivale a if not False.\n",
    "    print(\"Se cumple la condición\")\n",
    "    print(\"Tambien se muestra este print\")"
   ]
  },
  {
   "cell_type": "markdown",
   "id": "c1607b86",
   "metadata": {},
   "source": [
    "#### Es posible hacerlo en cadenas diferentes if"
   ]
  },
  {
   "cell_type": "code",
   "execution_count": 2,
   "id": "e12ac1bd",
   "metadata": {},
   "outputs": [
    {
     "name": "stdout",
     "output_type": "stream",
     "text": [
      "a vale 5\n"
     ]
    }
   ],
   "source": [
    "a = 5\n",
    "if a == 2:\n",
    "    print(\"a vale 2\")\n",
    "if a ==5:\n",
    "    print(\"a vale 5\")\n",
    "    "
   ]
  },
  {
   "cell_type": "markdown",
   "id": "eba456fc",
   "metadata": {},
   "source": [
    "#### O tambien anidar if dentro de if"
   ]
  },
  {
   "cell_type": "code",
   "execution_count": 3,
   "id": "e01a2dce",
   "metadata": {},
   "outputs": [
    {
     "name": "stdout",
     "output_type": "stream",
     "text": [
      "a vale 5\n",
      "b vale 10\n"
     ]
    }
   ],
   "source": [
    "a = 5\n",
    "b = 10\n",
    "if a == 5:\n",
    "    print(\"a vale\", a)\n",
    "    if b == 10:\n",
    "        print(\"b vale\", b)"
   ]
  },
  {
   "cell_type": "markdown",
   "id": "1083dfe9",
   "metadata": {},
   "source": [
    "#### Como condición es posible evaluar múltiples expresiones, siempre que estas devuelvan True o False"
   ]
  },
  {
   "cell_type": "code",
   "execution_count": 5,
   "id": "12346a60",
   "metadata": {},
   "outputs": [
    {
     "name": "stdout",
     "output_type": "stream",
     "text": [
      "a vale 5 y b vale 10\n"
     ]
    }
   ],
   "source": [
    "if a == 5 and b == 10:\n",
    "    print(\"a vale 5 y b vale 10\")"
   ]
  },
  {
   "cell_type": "markdown",
   "id": "2315fd87",
   "metadata": {},
   "source": [
    "# Sentencia else (Sino)\n",
    "Se encadena a un if para comprobar el caso contrario (el que no cumple la condición)"
   ]
  },
  {
   "cell_type": "code",
   "execution_count": 6,
   "id": "3a9bb835",
   "metadata": {},
   "outputs": [
    {
     "name": "stdout",
     "output_type": "stream",
     "text": [
      "11 Es un número impar\n"
     ]
    }
   ],
   "source": [
    "n = 11\n",
    "if n%2==0:\n",
    "    print(n, \"es un número par\")\n",
    "else:\n",
    "    print(n, \"Es un número impar\")"
   ]
  },
  {
   "cell_type": "markdown",
   "id": "32e5145e",
   "metadata": {},
   "source": [
    "# Sentencia Elif (Sino si)\n",
    "Se encadena  a un if u otro elif para comprobar múltiples condiciones, siempre que las anteriores no se ejecuten."
   ]
  },
  {
   "cell_type": "code",
   "execution_count": 7,
   "id": "e5670b64",
   "metadata": {},
   "outputs": [
    {
     "name": "stdout",
     "output_type": "stream",
     "text": [
      "Este comando no se reconoce\n"
     ]
    }
   ],
   "source": [
    "comando = \"Otra cosa\"\n",
    "if comando == \"Entrar\":\n",
    "    print(\"Bienvenido al sistema\")\n",
    "elif comando == \"Saludar\":\n",
    "    print(\"Hola, espero te la estes pasando chido, aprendiendo Python\")\n",
    "elif comando == \"Salir\":\n",
    "    print(\"Saliendo del sistema\")\n",
    "else:\n",
    "    print(\"Este comando no se reconoce\")\n"
   ]
  },
  {
   "cell_type": "code",
   "execution_count": 8,
   "id": "109056c2",
   "metadata": {},
   "outputs": [
    {
     "name": "stdout",
     "output_type": "stream",
     "text": [
      "Introduce una calificación: 85\n",
      "Notable\n"
     ]
    }
   ],
   "source": [
    "calif = float(input(\"Introduce una calificación: \"))\n",
    "if calif >= 90:\n",
    "    print(\"Sobresaliente\")\n",
    "elif calif >= 70:\n",
    "    print(\"Notable\")\n",
    "elif calif < 70:\n",
    "    pritnt(\"Suficiente\")\n",
    "else:\n",
    "    print(\"Reprobado\")\n",
    "    "
   ]
  },
  {
   "cell_type": "markdown",
   "id": "98665414",
   "metadata": {},
   "source": [
    "# Intrucción Pass\n",
    "Sirve para finalizar un bloque, se puede utilizar en un bloque vacio."
   ]
  },
  {
   "cell_type": "code",
   "execution_count": 10,
   "id": "bbde19c7",
   "metadata": {},
   "outputs": [],
   "source": [
    "if True:\n",
    "    pass #Indica que se acaba el bloque(if)"
   ]
  },
  {
   "cell_type": "code",
   "execution_count": null,
   "id": "29978710",
   "metadata": {},
   "outputs": [],
   "source": []
  }
 ],
 "metadata": {
  "kernelspec": {
   "display_name": "Python 3 (ipykernel)",
   "language": "python",
   "name": "python3"
  },
  "language_info": {
   "codemirror_mode": {
    "name": "ipython",
    "version": 3
   },
   "file_extension": ".py",
   "mimetype": "text/x-python",
   "name": "python",
   "nbconvert_exporter": "python",
   "pygments_lexer": "ipython3",
   "version": "3.10.9"
  }
 },
 "nbformat": 4,
 "nbformat_minor": 5
}
